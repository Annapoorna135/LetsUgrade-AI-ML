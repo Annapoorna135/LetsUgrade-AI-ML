{
 "cells": [
  {
   "cell_type": "markdown",
   "metadata": {},
   "source": [
    "# Assignment 1"
   ]
  },
  {
   "cell_type": "code",
   "execution_count": 10,
   "metadata": {},
   "outputs": [
    {
     "name": "stdout",
     "output_type": "stream",
     "text": [
      "Enter a:8+7j\n",
      "Enter b:3+4j\n",
      "Sub = (5+3j)\n"
     ]
    }
   ],
   "source": [
    "a = complex(input(\"Enter a:\"))\n",
    "b = complex(input(\"Enter b:\"))\n",
    "c = a-b\n",
    "print(\"Sub =\",c)"
   ]
  },
  {
   "cell_type": "markdown",
   "metadata": {},
   "source": [
    "# Assignment 2"
   ]
  },
  {
   "cell_type": "code",
   "execution_count": 9,
   "metadata": {},
   "outputs": [
    {
     "name": "stdout",
     "output_type": "stream",
     "text": [
      "Enter the num to find fourth root:81\n",
      "The fourth root of  81  is  3.0\n"
     ]
    }
   ],
   "source": [
    "r = 4\n",
    "num = int(input(\"Enter the num to find fourth root:\"))\n",
    "root = num**(1/r)\n",
    "print(\"The fourth root of \",num,\" is \",root)"
   ]
  },
  {
   "cell_type": "markdown",
   "metadata": {},
   "source": [
    "# Assignment 3"
   ]
  },
  {
   "cell_type": "code",
   "execution_count": 11,
   "metadata": {},
   "outputs": [
    {
     "name": "stdout",
     "output_type": "stream",
     "text": [
      "Enter the first num:2\n",
      "Enter the second num:4\n",
      "Before swap\n",
      "a = 2 b = 4\n",
      "After swap\n",
      "a = 4 b = 2\n"
     ]
    }
   ],
   "source": [
    "a = int(input(\"Enter the first num:\"))\n",
    "b = int(input(\"Enter the second num:\"))\n",
    "print(\"Before swap\")\n",
    "print(\"a =\",a,\"b =\",b)\n",
    "temp=a\n",
    "a=b\n",
    "b=temp\n",
    "print(\"After swap\")\n",
    "print(\"a =\",a,\"b =\",b)"
   ]
  },
  {
   "cell_type": "markdown",
   "metadata": {},
   "source": [
    "# Assignment 4"
   ]
  },
  {
   "cell_type": "code",
   "execution_count": 1,
   "metadata": {},
   "outputs": [
    {
     "name": "stdout",
     "output_type": "stream",
     "text": [
      "Enter the first num:2\n",
      "Enter the second num:4\n",
      "Before swap\n",
      "a = 2 b = 4\n",
      "After swap\n",
      "a = 4 b = 4\n"
     ]
    }
   ],
   "source": [
    "a = int(input(\"Enter the first num:\"))\n",
    "b = int(input(\"Enter the second num:\"))\n",
    "print(\"Before swap\")\n",
    "print(\"a =\",a,\"b =\",b)\n",
    "a = (a+b)-a\n",
    "b = (a+b)-b\n",
    "print(\"After swap\")\n",
    "print(\"a =\",a,\"b =\",b)"
   ]
  },
  {
   "cell_type": "markdown",
   "metadata": {},
   "source": [
    "# Assignment 5"
   ]
  },
  {
   "cell_type": "code",
   "execution_count": 4,
   "metadata": {},
   "outputs": [
    {
     "name": "stdout",
     "output_type": "stream",
     "text": [
      "Enter the temperature in fahrenheit:32\n",
      "0.0 degree\n",
      "273.15 kelvin\n"
     ]
    }
   ],
   "source": [
    "f = int(input(\"Enter the temperature in fahrenheit:\"))\n",
    "c = (f-32)*(5/9)\n",
    "print(c,\"degree\")\n",
    "k = (f-32)*(5/9)+(273.15)\n",
    "print(k,\"kelvin\")"
   ]
  },
  {
   "cell_type": "markdown",
   "metadata": {},
   "source": [
    "# Assignment 6"
   ]
  },
  {
   "cell_type": "code",
   "execution_count": 11,
   "metadata": {},
   "outputs": [
    {
     "name": "stdout",
     "output_type": "stream",
     "text": [
      "<class 'int'>\n",
      "<class 'float'>\n",
      "<class 'complex'>\n",
      "<class 'str'>\n",
      "<class 'list'>\n",
      "<class 'tuple'>\n",
      "<class 'dict'>\n",
      "<class 'bool'>\n"
     ]
    }
   ],
   "source": [
    "a = 12\n",
    "print(type(a))\n",
    "b = 12.0\n",
    "print(type(b))\n",
    "c = 6+2j\n",
    "print(type(c))\n",
    "d = 'hai'\n",
    "print(type(d))\n",
    "e = [1,2,3]\n",
    "print(type(e))\n",
    "f = (1,2,2)\n",
    "print(type(f))\n",
    "g = {1:'one',2:'two',3:'three'}\n",
    "print(type(g))\n",
    "h = True\n",
    "print(type(h))"
   ]
  },
  {
   "cell_type": "markdown",
   "metadata": {},
   "source": [
    "# Assignment 7"
   ]
  },
  {
   "cell_type": "markdown",
   "metadata": {},
   "source": [
    "## Steps to create a github profie"
   ]
  },
  {
   "cell_type": "markdown",
   "metadata": {},
   "source": [
    "1. Go to https://github.com/join.\n",
    "2. Type a user name, your email address, and a password.\n",
    "3. Select Sign up for GitHub, the github account will be created."
   ]
  },
  {
   "cell_type": "markdown",
   "metadata": {},
   "source": [
    "## Steps to github repository"
   ]
  },
  {
   "cell_type": "markdown",
   "metadata": {},
   "source": [
    "1. Once after signing-in to github account, in __Your Repository__, choose __New Repository.__\n",
    "2. On the navigation bar, choose **Create new (+)**, and then choose **New repository.**\n",
    "3. In the Repository name box, give the name as **LetsUpgrade-AI/ML**.\n",
    "4. Select Public.\n",
    "5. Select **Create Repository.**"
   ]
  },
  {
   "cell_type": "markdown",
   "metadata": {},
   "source": [
    "## Steps to upload files to github"
   ]
  },
  {
   "cell_type": "markdown",
   "metadata": {},
   "source": [
    "1. Once the Repository is created, open the repository.\n",
    "2. Then click on __uploading an existing file__.\n",
    "3. Drag and drop the file to be uploaded.\n",
    "4. Then selct commit changes.\n",
    "5. The file will be uploaded to your github account."
   ]
  }
 ],
 "metadata": {
  "kernelspec": {
   "display_name": "Python 3",
   "language": "python",
   "name": "python3"
  },
  "language_info": {
   "codemirror_mode": {
    "name": "ipython",
    "version": 3
   },
   "file_extension": ".py",
   "mimetype": "text/x-python",
   "name": "python",
   "nbconvert_exporter": "python",
   "pygments_lexer": "ipython3",
   "version": "3.7.6"
  }
 },
 "nbformat": 4,
 "nbformat_minor": 4
}
