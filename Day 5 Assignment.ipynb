{
 "cells": [
  {
   "cell_type": "markdown",
   "metadata": {},
   "source": [
    "# Assignment 1"
   ]
  },
  {
   "cell_type": "code",
   "execution_count": 16,
   "metadata": {},
   "outputs": [
    {
     "name": "stdout",
     "output_type": "stream",
     "text": [
      "Enter the number of non-even prime numbers required:20\n",
      "The first 20 non-even prime numbers are:\n",
      "3 5 7 11 13 17 19 23 29 31 37 41 43 47 53 59 61 67 71 73 "
     ]
    }
   ],
   "source": [
    "c = 0\n",
    "n = int(input(\"Enter the number of non-even prime numbers required:\"))\n",
    "print(\"The first\",n,\"non-even prime numbers are:\")\n",
    "for num in range(3,100):\n",
    "        if (num>1):\n",
    "            for i in range(2,num):\n",
    "                if (num%i == 0):\n",
    "                    break\n",
    "            else:\n",
    "                print(num,end = \" \")\n",
    "                c+= 1\n",
    "                if (c>=n):\n",
    "                    break"
   ]
  },
  {
   "cell_type": "markdown",
   "metadata": {},
   "source": [
    "# Assignment 2"
   ]
  },
  {
   "cell_type": "code",
   "execution_count": 55,
   "metadata": {},
   "outputs": [
    {
     "name": "stdout",
     "output_type": "stream",
     "text": [
      "Hai, to all @lets's upgraders.\n",
      "hai, to all @lets's upgraders.\n",
      "          hai, to all @Lets's Upgraders.          \n",
      "3\n",
      "5\n",
      "1\n",
      "False\n",
      "False\n",
      "True\n",
      "False\n",
      "False\n",
      "hai, to all @lets's upgraders.\n",
      "['hai, to all ', \"Lets's Upgraders.\"]\n",
      "True\n",
      "HAI, TO ALL @LETS'S UPGRADERS.\n"
     ]
    }
   ],
   "source": [
    "s = \"hai, to all @Lets's Upgraders.\"\n",
    "t = \"!\"\n",
    "print(s.capitalize())\n",
    "print(s.casefold())\n",
    "print(s.center(50))\n",
    "print(s.count('a'))\n",
    "print(s.find('to'))\n",
    "print(s.index('a'))\n",
    "print(s.isalnum())\n",
    "print(s.isalpha())\n",
    "print(s.isascii())\n",
    "print(s.isdecimal())\n",
    "print(s.isdigit())\n",
    "print(s.lower())\n",
    "print(s.split('@'))\n",
    "print(s.startswith('h'))\n",
    "print(s.upper())"
   ]
  },
  {
   "cell_type": "markdown",
   "metadata": {},
   "source": [
    "# Assignment 3"
   ]
  },
  {
   "cell_type": "code",
   "execution_count": 38,
   "metadata": {},
   "outputs": [
    {
     "name": "stdout",
     "output_type": "stream",
     "text": [
      "Enter the first string:angel\n",
      "Enter the second string:gelna\n",
      "The strings are Anagrams.\n"
     ]
    }
   ],
   "source": [
    "s1 = input(\"Enter the first string:\")\n",
    "s2 = input(\"Enter the second string:\")\n",
    "s3 = s1[::-1]\n",
    "if(s1 == s3):\n",
    "    print(\"The string 1 is a Palindrome\")\n",
    "elif(sorted(s1) == sorted(s2)):\n",
    "    print(\"The strings are Anagrams.\")\n",
    "else:\n",
    "    print(\"The strings are not either Palindrome or Anagrams.\")"
   ]
  },
  {
   "cell_type": "markdown",
   "metadata": {},
   "source": [
    "# Assignment 4"
   ]
  },
  {
   "cell_type": "code",
   "execution_count": 39,
   "metadata": {},
   "outputs": [
    {
     "name": "stdout",
     "output_type": "stream",
     "text": [
      "Enter the string:Annapoorna.R.S Student @Let's Upgrade.\n",
      "annapoornarsstudentletsupgrade\n"
     ]
    }
   ],
   "source": [
    "def is_alpha():\n",
    "    S = input(\"Enter the string:\")\n",
    "    n_s = \"\"\n",
    "    for i in S:\n",
    "        if(i.isalnum()):\n",
    "            n_s = n_s+i\n",
    "    return n_s\n",
    "new_string = is_alpha()\n",
    "print(new_string.lower())"
   ]
  }
 ],
 "metadata": {
  "kernelspec": {
   "display_name": "Python 3",
   "language": "python",
   "name": "python3"
  },
  "language_info": {
   "codemirror_mode": {
    "name": "ipython",
    "version": 3
   },
   "file_extension": ".py",
   "mimetype": "text/x-python",
   "name": "python",
   "nbconvert_exporter": "python",
   "pygments_lexer": "ipython3",
   "version": "3.7.6"
  }
 },
 "nbformat": 4,
 "nbformat_minor": 4
}
